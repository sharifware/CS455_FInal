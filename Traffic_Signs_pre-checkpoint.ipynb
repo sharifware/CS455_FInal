{
 "cells": [
  {
   "cell_type": "markdown",
   "metadata": {
    "id": "E27UAZOz0YYz"
   },
   "source": [
    "### Notebook for resizing the original image file and save it to a numpy array (npy) file\n"
   ]
  },
  {
   "cell_type": "markdown",
   "metadata": {
    "id": "Ar6c6QLZ0YY1"
   },
   "source": [
    "Import modules"
   ]
  },
  {
   "cell_type": "code",
   "execution_count": 1,
   "metadata": {
    "colab": {
     "base_uri": "https://localhost:8080/"
    },
    "id": "pyEQrC9t0YY1",
    "outputId": "be1adbc6-35fe-4345-94a0-9c6afdde24d5"
   },
   "outputs": [],
   "source": [
    "import os,glob\n",
    "import numpy as np\n",
    "from PIL import Image\n"
   ]
  },
  {
   "cell_type": "markdown",
   "metadata": {
    "id": "9_GNMqNAVvMF"
   },
   "source": [
    "### Mouting a drive if needed"
   ]
  },
  {
   "cell_type": "code",
   "execution_count": 2,
   "metadata": {
    "id": "knSU09l2VqZt"
   },
   "outputs": [],
   "source": [
    "#Mouting a drive if using Google Colab, etc. \"work_dir\" in the next Code cell will need to be updated accordingly.\n",
    "# E.g.)\n",
    "#from google.colab import drive\n",
    "#drive.mount('/gdrive')\n",
    "#%cd /gdrive"
   ]
  },
  {
   "cell_type": "markdown",
   "metadata": {
    "id": "SAeifgUH0YY2"
   },
   "source": [
    "Parameter setting \n",
    "(After modification, click “(menu) Run → Run Selected Cell and All Below”)"
   ]
  },
  {
   "cell_type": "code",
   "execution_count": 3,
   "metadata": {
    "id": "A7Oz3oZM0YY2"
   },
   "outputs": [],
   "source": [
    "w=56\n",
    "work_dir='data/dogs_cats'\n",
    "npy_data_base='dogs_cats-data'\n",
    "npy_labels_base='dogs_cats-labels'\n",
    "classes=['dogs','cats']\n",
    "num_classes=len(classes)"
   ]
  },
  {
   "cell_type": "markdown",
   "metadata": {
    "id": "Acb5gUIy0YY2"
   },
   "source": [
    "Create a numpy array file by specifying the vertical and horizontal size of the image as w"
   ]
  },
  {
   "cell_type": "code",
   "execution_count": 4,
   "metadata": {
    "colab": {
     "base_uri": "https://localhost:8080/"
    },
    "id": "erbAKYPw0YY2",
    "outputId": "ec4c2960-bb5c-4c76-a948-7fd94b1f3b1a"
   },
   "outputs": [
    {
     "name": "stdout",
     "output_type": "stream",
     "text": [
      "w: 56 mode: train class: dogs\n",
      "w: 56 mode: train class: cats\n",
      "w: 56 mode: test class: dogs\n",
      "w: 56 mode: test class: cats\n",
      "OK\n",
      "CPU times: user 7.02 s, sys: 295 ms, total: 7.31 s\n",
      "Wall time: 7.49 s\n"
     ]
    }
   ],
   "source": [
    "%%time\n",
    "\n",
    "ok=1\n",
    "for mode in [\"train\", \"test\"]:\n",
    "    X=[]\n",
    "    y=[]\n",
    "    npy_data_file='{0}-{1}-w{2}.npy'.format(npy_data_base,mode,w)\n",
    "    npy_labels_file='{0}-{1}-w{2}.npy'.format(npy_labels_base,mode,w)\n",
    "    for i in range(0, num_classes):\n",
    "        cls=classes[i]\n",
    "        image_dir=work_dir+\"/original/\"+mode+\"/\"+cls\n",
    "        files=glob.glob(image_dir+\"/*.*\")\n",
    "        print(\"w:\",w,\"mode:\",mode,\"class:\",cls)\n",
    "        for f in files:\n",
    "            img=Image.open(f)\n",
    "            img=img.convert(\"RGB\")\n",
    "            img=img.resize((w,w))\n",
    "            data=np.array(img)\n",
    "            X.append(data)\n",
    "            y.append(i)\n",
    "    X=np.array(X)\n",
    "    y=np.array(y)\n",
    "    data_file=work_dir+\"/\"+npy_data_file\n",
    "    labels_file=work_dir+\"/\"+npy_labels_file\n",
    "    np.save(data_file,X)\n",
    "    np.save(labels_file,y)\n",
    "    \n",
    "    if not os.path.exists(data_file):\n",
    "        ok=0\n",
    "    if not os.path.exists(labels_file):\n",
    "        ok=0\n",
    "        \n",
    "if ok==1:\n",
    "    print(\"OK\")"
   ]
  },
  {
   "cell_type": "code",
   "execution_count": null,
   "metadata": {},
   "outputs": [],
   "source": []
  },
  {
   "cell_type": "code",
   "execution_count": null,
   "metadata": {},
   "outputs": [],
   "source": []
  }
 ],
 "metadata": {
  "colab": {
   "name": "dogs_cats-pre.ipynb",
   "provenance": []
  },
  "kernelspec": {
   "display_name": "Python 3 (ipykernel)",
   "language": "python",
   "name": "python3"
  },
  "language_info": {
   "codemirror_mode": {
    "name": "ipython",
    "version": 3
   },
   "file_extension": ".py",
   "mimetype": "text/x-python",
   "name": "python",
   "nbconvert_exporter": "python",
   "pygments_lexer": "ipython3",
   "version": "3.8.11"
  }
 },
 "nbformat": 4,
 "nbformat_minor": 4
}
